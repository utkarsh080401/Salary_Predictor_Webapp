{
 "cells": [
  {
   "cell_type": "markdown",
   "metadata": {},
   "source": [
    "Machine Learning/ Data Science Workflow"
   ]
  },
  {
   "cell_type": "markdown",
   "metadata": {},
   "source": [
    "Raw Data-->Data Prep, EDA, Feature Engg--> Build Model, Evaluate, Interpret--> Productionize--> Deployment--> End User Feedback"
   ]
  },
  {
   "cell_type": "markdown",
   "metadata": {},
   "source": [
    "Challenge of ML Models\n",
    "\n",
    "How d0 you use your models afyer building them\n",
    "How can thr end-user benefit\n",
    "The Two Language Problem\n",
    "\n",
    "Solution:\n",
    "    \n",
    "    Productionzie\n",
    "    Deploy\n",
    "    Use ML model as a package\n",
    "    Deployment as API"
   ]
  },
  {
   "cell_type": "markdown",
   "metadata": {},
   "source": [
    "<h3> Types of ML apps</h3>\n",
    "\n",
    "\n",
    "1. Pattern Recognition Apps\n",
    "2. Predictive Analysis Apps\n"
   ]
  },
  {
   "cell_type": "markdown",
   "metadata": {},
   "source": [
    "## Ways to Productionize\n",
    "\n",
    "1. Using Web apps\n",
    "2. Using API\n",
    "3. Using Streamlit\n",
    "4. Using Your ML Models as a Package"
   ]
  },
  {
   "cell_type": "markdown",
   "metadata": {},
   "source": [
    "Setting up a Workspace\n",
    "\n",
    "1. What problems are you trying to solve?\n",
    "2. What questions are you intending to explore?\n",
    "3. what is the value and usefullness of the project?\n",
    "4. How long it will take to finish the project?\n",
    "\n",
    "Project Structure:-\n",
    "Organization Matters\n",
    "Tools for Project Structuring\n",
    "Cookiecutter/DipCutter"
   ]
  },
  {
   "cell_type": "code",
   "execution_count": null,
   "metadata": {},
   "outputs": [],
   "source": []
  }
 ],
 "metadata": {
  "kernelspec": {
   "display_name": "Python 3",
   "language": "python",
   "name": "python3"
  },
  "language_info": {
   "codemirror_mode": {
    "name": "ipython",
    "version": 3
   },
   "file_extension": ".py",
   "mimetype": "text/x-python",
   "name": "python",
   "nbconvert_exporter": "python",
   "pygments_lexer": "ipython3",
   "version": "3.7.4"
  }
 },
 "nbformat": 4,
 "nbformat_minor": 2
}
